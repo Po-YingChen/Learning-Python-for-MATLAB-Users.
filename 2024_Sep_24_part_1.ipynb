{
  "cells": [
    {
      "cell_type": "markdown",
      "metadata": {},
      "source": [
        "# Overview of NumPy Categories (Part 1)\n",
        "This notebook provides an overview of key NumPy categories that are commonly used in Python, especially for users familiar with MATLAB.\n",
        "We will focus on the following categories:\n",
        "\n",
        "## 1. Indexing and Slicing\n",
        "• Accessing elements in arrays and slicing arrays.\n",
        "• Use standard Python indexing (`A[i, j]`) to access elements.\n",
        "• Slice arrays using `:` notation (e.g., `A[0:2]`).\n",
        "• Boolean indexing: Use conditions to filter elements (`A[A > 0]`).\n",
        "\n",
        "## 2. Array Creation\n",
        "• Create arrays of zeros, ones, and other values.\n",
        "• Use functions like `np.zeros()`, `np.ones()`, and `np.array()` to create arrays.\n",
        "\n",
        "## 3. Array Manipulation\n",
        "• Reshape and transpose arrays with `np.reshape()` and `np.transpose()`.\n",
        "• Flatten arrays or stack arrays vertically/horizontally with `np.flatten()` and `np.concatenate()`.\n",
        "\n",
        "## 4. Mathematical Operations\n",
        "• Perform element-wise operations with `+`, `-`, `*`, and `/`.\n",
        "• Use functions like `np.dot()` for matrix multiplication and `np.sqrt()`, `np.exp()`, etc., for mathematical functions.\n",
        "\n",
        "## 5. Broadcasting\n",
        "• NumPy automatically broadcasts smaller arrays to match larger arrays in operations like addition and multiplication.\n"
      ]
    },
    {
      "cell_type": "markdown",
      "metadata": {},
      "source": [
        "# Key Differences Between MATLAB and NumPy\n",
        "Below are some key differences between MATLAB and NumPy in the categories mentioned above."
      ]
    },
    {
      "cell_type": "markdown",
      "metadata": {},
      "source": [
        "## Indexing\n",
        "<span style=\"color: red;\">In MATLAB, indexing is **1-based**, meaning the first element of an array or matrix is indexed as 1.</span>\n",
        "\n",
        "<span style=\"color: green;\">However, in NumPy (Python), indexing is **0-based**, meaning the first element is indexed as 0.</span>\n",
        "\n",
        "**MATLAB Example:**\n",
        "```matlab\n",
        "A = [10, 20, 30];\n",
        "value = A(1);  % Returns the first element, 10\n",
        "```\n",
        "\n",
        "**Python (NumPy) Example:**\n",
        "```python\n",
        "import numpy as np\n",
        "A = np.array([10, 20, 30])\n",
        "value = A[0]  # Returns the first element, 10\n",
        "```"
      ]
    },
    {
      "cell_type": "markdown",
      "metadata": {},
      "source": [
        "## Slicing\n",
        "<span style=\"color: red;\">In MATLAB, slicing includes the last element (e.g., A(2:4) includes index 4).</span>\n",
        "\n",
        "<span style=\"color: green;\">In NumPy, slicing excludes the last element (e.g., A[1:4] does not include index 4).</span>\n",
        "\n",
        "**MATLAB Example:**\n",
        "```matlab\n",
        "A = [10, 20, 30, 40];\n",
        "subset = A(2:4);  % Returns [20, 30, 40]\n",
        "```\n",
        "\n",
        "**Python (NumPy) Example:**\n",
        "```python\n",
        "A = np.array([10, 20, 30, 40])\n",
        "subset = A[1:4]  # Returns [20, 30, 40]\n",
        "```"
      ]
    },
    {
      "cell_type": "markdown",
      "metadata": {},
      "source": [
        "## Array Creation\n",
        "Array creation is similar in MATLAB and NumPy, but NumPy requires parentheses when calling array creation functions.\n",
        "\n",
        "**MATLAB Example:**\n",
        "```matlab\n",
        "A = [1, 2, 3];      % Create an array with specific values\n",
        "B = zeros(2, 3);    % Create a 2x3 array of zeros\n",
        "C = ones(3, 4);     % Create a 3x4 array of ones\n",
        "```\n",
        "\n",
        "**Python (NumPy) Example:**\n",
        "```python\n",
        "A = np.array([1, 2, 3])    # Create an array with specific values\n",
        "B = np.zeros((2, 3))       # Create a 2x3 array of zeros\n",
        "C = np.ones((3, 4))        # Create a 3x4 array of ones\n",
        "```"
      ]
    },
    {
      "cell_type": "markdown",
      "metadata": {},
      "source": [
        "## Array Manipulation\n",
        "Array manipulation functions like reshaping and transposing are similar, but the syntax differs slightly.\n",
        "\n",
        "**MATLAB Example:**\n",
        "```matlab\n",
        "A = reshape(1:6, [2, 3]);  % Reshape a 1x6 array into a 2x3 array\n",
        "```\n",
        "\n",
        "**Python (NumPy) Example:**\n",
        "```python\n",
        "A = np.arange(1, 7).reshape((2, 3))   # Reshape a 1x6 array into a 2x3 array\n",
        "```"
      ]
    },
    {
      "cell_type": "markdown",
      "metadata": {},
      "source": [
        "## Element-wise Operations\n",
        "<span style=\"color: red;\">MATLAB uses `.*`, `./` for element-wise operations.</span>\n",
        "\n",
        "<span style=\"color: green;\">In NumPy, you can use `*`, `/` directly for element-wise operations.</span>\n",
        "\n",
        "**MATLAB Example:**\n",
        "```matlab\n",
        "A = [1, 2; 3, 4];\n",
        "B = [5, 6; 7, 8];\n",
        "C = A .* B;  % Element-wise multiplication\n",
        "```\n",
        "\n",
        "**Python (NumPy) Example:**\n",
        "```python\n",
        "A = np.array([[1, 2], [3, 4]])\n",
        "B = np.array([[5, 6], [7, 8]])\n",
        "C = A * B  # Element-wise multiplication\n",
        "```"
      ]
    },
    {
      "cell_type": "markdown",
      "metadata": {},
      "source": [
        "## Broadcasting\n",
        "<span style=\"color: red;\">MATLAB requires explicit resizing for operations like adding a scalar to a matrix.</span>\n",
        "\n",
        "<span style=\"color: green;\">NumPy automatically broadcasts smaller arrays to match the shape of larger arrays.</span>\n",
        "\n",
        "**MATLAB Example:**\n",
        "```matlab\n",
        "A = [1, 2, 3];\n",
        "B = 2;\n",
        "C = A .* B;   % Element-wise multiplication\n",
        "```\n",
        "\n",
        "**Python (NumPy) Example:**\n",
        "```python\n",
        "A = np.array([1, 2, 3])\n",
        "B = 2\n",
        "C = A * B   # Element-wise multiplication, automatically broadcast\n",
        "```"
      ]
    }
  ],
  "metadata": {
    "kernelspec": {
      "display_name": "Python 3",
      "language": "python",
      "name": "python3"
    },
    "language_info": {
      "codemirror_mode": {
        "name": "ipython",
        "version": 3
      },
      "file_extension": ".py",
      "mimetype": "text/x-python",
      "name": "python",
      "nbconvert_exporter": "python",
      "pygments_lexer": "ipython3",
      "version": "3.10.7"
    }
  },
  "nbformat": 4,
  "nbformat_minor": 4
}
