{
  "cells": [
    {
      "cell_type": "markdown",
      "metadata": {},
      "source": [
        "# Overview of NumPy Categories (Part 2):\n",
        "This notebook provides an overview of two important categories in NumPy:\n",
        "1. **Linear Algebra (Category 6)**\n",
        "2. **Statistics and Aggregation (Category 7)**\n",
        "\n",
        "We will explore common operations in both categories, with emphasis on the differences between MATLAB and NumPy."
      ]
    },
    {
      "cell_type": "markdown",
      "metadata": {},
      "source": [
        "## 6. Linear Algebra\n",
        "• Matrix operations commonly used in algebra and solving systems of equations.\n",
        "• Functions include `np.linalg.inv()` (matrix inverse), `np.linalg.det()` (matrix determinant), `np.linalg.solve()` (solve a system of linear equations), and `np.linalg.eig()` (eigenvalues and eigenvectors).\n"
      ]
    },
    {
      "cell_type": "markdown",
      "metadata": {},
      "source": [
        "<span style=\"color: red;\">In MATLAB, matrix multiplication is done with `*`, and solving Ax = b is done with `A\\b`.</span>\n",
        "\n",
        "<span style=\"color: green;\">In NumPy, matrix multiplication is done with `np.dot()` or `@`, and solving Ax = b is done with `np.linalg.solve(A, b)`.</span>\n",
        "\n",
        "**MATLAB Example (Solving Ax = b):**\n",
        "```matlab\n",
        "A = [3, 1; 1, 2];\n",
        "b = [9; 8];\n",
        "x = A\\b;  % Solve Ax = b\n",
        "```\n",
        "\n",
        "**Python (NumPy) Example (Solving Ax = b):**"
      ]
    },
    {
      "cell_type": "code",
      "execution_count": 1,
      "metadata": {},
      "outputs": [
        {
          "data": {
            "text/plain": [
              "array([2., 3.])"
            ]
          },
          "execution_count": 1,
          "metadata": {},
          "output_type": "execute_result"
        }
      ],
      "source": [
        "import numpy as np\n",
        "A = np.array([[3, 1], [1, 2]])\n",
        "b = np.array([9, 8])\n",
        "x = np.linalg.solve(A, b)  # Solve Ax = b\n",
        "x"
      ]
    },
    {
      "cell_type": "markdown",
      "metadata": {},
      "source": [
        "### Determinant and Inverse\n",
        "• **`np.linalg.inv(A)`** computes the inverse of matrix `A`.\n",
        "• **`np.linalg.det(A)`** computes the determinant of matrix `A`.\n",
        "\n",
        "<span style=\"color: red;\">In MATLAB, use `inv(A)` and `det(A)` for matrix inversion and determinant.</span>\n",
        "\n",
        "<span style=\"color: green;\">In NumPy, use `np.linalg.inv(A)` and `np.linalg.det(A)`.</span>\n",
        "\n",
        "**MATLAB Example:**\n",
        "```matlab\n",
        "A = [3, 1; 1, 2];\n",
        "invA = inv(A);  % Inverse of A\n",
        "detA = det(A);  % Determinant of A\n",
        "```\n",
        "\n",
        "**Python (NumPy) Example:**"
      ]
    },
    {
      "cell_type": "code",
      "execution_count": 3,
      "metadata": {},
      "outputs": [
        {
          "data": {
            "text/plain": [
              "(array([[ 0.4, -0.2],\n",
              "        [-0.2,  0.6]]),\n",
              " 5.000000000000001)"
            ]
          },
          "execution_count": 3,
          "metadata": {},
          "output_type": "execute_result"
        }
      ],
      "source": [
        "A = np.array([[3, 1], [1, 2]])\n",
        "invA = np.linalg.inv(A)  # Inverse of A\n",
        "detA = np.linalg.det(A)  # Determinant of A\n",
        "invA, detA"
      ]
    },
    {
      "cell_type": "markdown",
      "metadata": {},
      "source": [
        "### Eigenvalues and Eigenvectors\n",
        "• **`np.linalg.eig(A)`** returns the eigenvalues and eigenvectors of matrix `A`.\n",
        "\n",
        "<span style=\"color: red;\">In MATLAB, use `eig(A)` to return the eigenvalues and eigenvectors of `A`.</span>\n",
        "\n",
        "<span style=\"color: green;\">In NumPy, use `np.linalg.eig(A)` to return eigenvalues and eigenvectors.</span>\n",
        "\n",
        "**MATLAB Example:**\n",
        "```matlab\n",
        "A = [1, 2; 2, 3];\n",
        "[V, D] = eig(A);  % V is the eigenvectors, D is the eigenvalues\n",
        "```\n",
        "\n",
        "**Python (NumPy) Example:**"
      ]
    },
    {
      "cell_type": "code",
      "execution_count": 4,
      "metadata": {},
      "outputs": [
        {
          "data": {
            "text/plain": [
              "(array([-0.23606798,  4.23606798]),\n",
              " array([[-0.85065081, -0.52573111],\n",
              "        [ 0.52573111, -0.85065081]]))"
            ]
          },
          "execution_count": 4,
          "metadata": {},
          "output_type": "execute_result"
        }
      ],
      "source": [
        "A = np.array([[1, 2], [2, 3]])\n",
        "eigvals, eigvecs = np.linalg.eig(A)  # Eigenvalues and eigenvectors\n",
        "eigvals, eigvecs"
      ]
    },
    {
      "cell_type": "markdown",
      "metadata": {},
      "source": [
        "## 7. Statistics and Aggregation\n",
        "• NumPy offers statistical functions such as `np.mean()`, `np.median()`, `np.std()`, `np.sum()`, `np.max()`, and `np.min()`.\n",
        "• These functions can be applied along a specific axis of an array.\n"
      ]
    },
    {
      "cell_type": "markdown",
      "metadata": {},
      "source": [
        "<span style=\"color: red;\">In MATLAB, use `mean(A)`, `std(A)`, `sum(A)` to calculate statistics.</span>\n",
        "\n",
        "<span style=\"color: green;\">In NumPy, use `np.mean(A)`, `np.std(A)`, `np.sum(A)` to calculate statistics.</span>\n",
        "\n",
        "**MATLAB Example:**\n",
        "```matlab\n",
        "A = [1, 2, 3; 4, 5, 6];\n",
        "meanA = mean(A);  % Mean of A\n",
        "sumA = sum(A);    % Sum of A\n",
        "```\n",
        "\n",
        "**Python (NumPy) Example:**"
      ]
    },
    {
      "cell_type": "code",
      "execution_count": 5,
      "metadata": {},
      "outputs": [
        {
          "data": {
            "text/plain": [
              "(3.5, 21)"
            ]
          },
          "execution_count": 5,
          "metadata": {},
          "output_type": "execute_result"
        }
      ],
      "source": [
        "A = np.array([[1, 2, 3], [4, 5, 6]])\n",
        "meanA = np.mean(A)  # Mean of A\n",
        "sumA = np.sum(A)    # Sum of A\n",
        "meanA, sumA"
      ]
    },
    {
      "cell_type": "markdown",
      "metadata": {},
      "source": [
        "### Standard Deviation and Median\n",
        "• **`np.std(A)`** computes the standard deviation.\n",
        "• **`np.median(A)`** computes the median.\n",
        "\n",
        "For computing the standard deviation,\n",
        "\n",
        "<span style=\"color: red;\">In MATLAB, use `std(A)` to computes the sample standard deviation by default (dividing by  `N-1` ).</span>\n",
        "\n",
        "<span style=\"color: green;\">In NumPy, use `np.std(A)` computes the population standard deviation by default (dividing by `N` ). To calculate the sample standard deviation, use `np.std(A, ddof=1)`</span>\n",
        "\n",
        "\n",
        "For computing the mediam,\n",
        "\n",
        "<span style=\"color: red;\">In MATLAB, use `median(A)`.</span>\n",
        "\n",
        "<span style=\"color: green;\">In NumPy, use `np.std(A)` and `np.median(A)`.</span>\n",
        "\n",
        "**MATLAB Example:**\n",
        "```matlab\n",
        "A = [1, 2, 3; 4, 5, 6];\n",
        "stdA = std(A);   % Standard deviation of A\n",
        "medianA = median(A);  % Median of A\n",
        "```\n",
        "\n",
        "**Python (NumPy) Example:**\n"
      ]
    },
    {
      "cell_type": "code",
      "execution_count": 6,
      "metadata": {},
      "outputs": [
        {
          "data": {
            "text/plain": [
              "(1.707825127659933, 1.8708286933869707, 3.5)"
            ]
          },
          "execution_count": 6,
          "metadata": {},
          "output_type": "execute_result"
        }
      ],
      "source": [
        "A = np.array([[1, 2, 3], [4, 5, 6]])\n",
        "# Population standard deviation (default)\n",
        "pop_stdA = np.std(A)\n",
        "\n",
        "# Sample standard deviation (using Bessel's correction with ddof=1)\n",
        "sample_stdA = np.std(A, ddof=1)\n",
        "medianA = np.median(A)  # Median of A\n",
        "pop_stdA, sample_stdA, medianA"
      ]
    }
  ],
  "metadata": {
    "kernelspec": {
      "display_name": "Python 3",
      "language": "python",
      "name": "python3"
    },
    "language_info": {
      "codemirror_mode": {
        "name": "ipython",
        "version": 3
      },
      "file_extension": ".py",
      "mimetype": "text/x-python",
      "name": "python",
      "nbconvert_exporter": "python",
      "pygments_lexer": "ipython3",
      "version": "3.10.7"
    }
  },
  "nbformat": 4,
  "nbformat_minor": 4
}
